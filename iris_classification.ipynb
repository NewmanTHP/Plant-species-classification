{
 "cells": [
  {
   "cell_type": "markdown",
   "metadata": {},
   "source": [
    "Iris Classification using:\n",
    "\n",
    "    - Random Forest\n",
    "    - XGBoost\n",
    "    - Support Vector Machine\n",
    "    - K-Nearest Neighbors"
   ]
  },
  {
   "cell_type": "markdown",
   "metadata": {},
   "source": [
    "<img src=\"https://upload.wikimedia.org/wikipedia/commons/thumb/4/49/Iris_germanica_%28Purple_bearded_Iris%29%2C_Wakehurst_Place%2C_UK_-_Diliff.jpg/330px-Iris_germanica_%28Purple_bearded_Iris%29%2C_Wakehurst_Place%2C_UK_-_Diliff.jpg\" width=150 />\n"
   ]
  },
  {
   "cell_type": "markdown",
   "metadata": {},
   "source": [
    "Libraries"
   ]
  },
  {
   "cell_type": "code",
   "execution_count": 42,
   "metadata": {},
   "outputs": [],
   "source": [
    "import numpy as np \n",
    "import matplotlib.pyplot as plt\n",
    "import pandas as pd\n",
    "\n",
    "from sklearn.model_selection import train_test_split, cross_validate, KFold"
   ]
  },
  {
   "cell_type": "markdown",
   "metadata": {},
   "source": [
    "Reading data"
   ]
  },
  {
   "cell_type": "code",
   "execution_count": 43,
   "metadata": {},
   "outputs": [
    {
     "data": {
      "text/html": [
       "<div>\n",
       "<style scoped>\n",
       "    .dataframe tbody tr th:only-of-type {\n",
       "        vertical-align: middle;\n",
       "    }\n",
       "\n",
       "    .dataframe tbody tr th {\n",
       "        vertical-align: top;\n",
       "    }\n",
       "\n",
       "    .dataframe thead th {\n",
       "        text-align: right;\n",
       "    }\n",
       "</style>\n",
       "<table border=\"1\" class=\"dataframe\">\n",
       "  <thead>\n",
       "    <tr style=\"text-align: right;\">\n",
       "      <th></th>\n",
       "      <th>sepal_length</th>\n",
       "      <th>sepal_width</th>\n",
       "      <th>petal_length</th>\n",
       "      <th>petal_width</th>\n",
       "      <th>species</th>\n",
       "    </tr>\n",
       "  </thead>\n",
       "  <tbody>\n",
       "    <tr>\n",
       "      <th>0</th>\n",
       "      <td>5.1</td>\n",
       "      <td>3.5</td>\n",
       "      <td>1.4</td>\n",
       "      <td>0.2</td>\n",
       "      <td>Iris-setosa</td>\n",
       "    </tr>\n",
       "    <tr>\n",
       "      <th>1</th>\n",
       "      <td>4.9</td>\n",
       "      <td>3.0</td>\n",
       "      <td>1.4</td>\n",
       "      <td>0.2</td>\n",
       "      <td>Iris-setosa</td>\n",
       "    </tr>\n",
       "    <tr>\n",
       "      <th>2</th>\n",
       "      <td>4.7</td>\n",
       "      <td>3.2</td>\n",
       "      <td>1.3</td>\n",
       "      <td>0.2</td>\n",
       "      <td>Iris-setosa</td>\n",
       "    </tr>\n",
       "    <tr>\n",
       "      <th>3</th>\n",
       "      <td>4.6</td>\n",
       "      <td>3.1</td>\n",
       "      <td>1.5</td>\n",
       "      <td>0.2</td>\n",
       "      <td>Iris-setosa</td>\n",
       "    </tr>\n",
       "    <tr>\n",
       "      <th>4</th>\n",
       "      <td>5.0</td>\n",
       "      <td>3.6</td>\n",
       "      <td>1.4</td>\n",
       "      <td>0.2</td>\n",
       "      <td>Iris-setosa</td>\n",
       "    </tr>\n",
       "    <tr>\n",
       "      <th>...</th>\n",
       "      <td>...</td>\n",
       "      <td>...</td>\n",
       "      <td>...</td>\n",
       "      <td>...</td>\n",
       "      <td>...</td>\n",
       "    </tr>\n",
       "    <tr>\n",
       "      <th>145</th>\n",
       "      <td>6.7</td>\n",
       "      <td>3.0</td>\n",
       "      <td>5.2</td>\n",
       "      <td>2.3</td>\n",
       "      <td>Iris-virginica</td>\n",
       "    </tr>\n",
       "    <tr>\n",
       "      <th>146</th>\n",
       "      <td>6.3</td>\n",
       "      <td>2.5</td>\n",
       "      <td>5.0</td>\n",
       "      <td>1.9</td>\n",
       "      <td>Iris-virginica</td>\n",
       "    </tr>\n",
       "    <tr>\n",
       "      <th>147</th>\n",
       "      <td>6.5</td>\n",
       "      <td>3.0</td>\n",
       "      <td>5.2</td>\n",
       "      <td>2.0</td>\n",
       "      <td>Iris-virginica</td>\n",
       "    </tr>\n",
       "    <tr>\n",
       "      <th>148</th>\n",
       "      <td>6.2</td>\n",
       "      <td>3.4</td>\n",
       "      <td>5.4</td>\n",
       "      <td>2.3</td>\n",
       "      <td>Iris-virginica</td>\n",
       "    </tr>\n",
       "    <tr>\n",
       "      <th>149</th>\n",
       "      <td>5.9</td>\n",
       "      <td>3.0</td>\n",
       "      <td>5.1</td>\n",
       "      <td>1.8</td>\n",
       "      <td>Iris-virginica</td>\n",
       "    </tr>\n",
       "  </tbody>\n",
       "</table>\n",
       "<p>150 rows × 5 columns</p>\n",
       "</div>"
      ],
      "text/plain": [
       "     sepal_length  sepal_width  petal_length  petal_width         species\n",
       "0             5.1          3.5           1.4          0.2     Iris-setosa\n",
       "1             4.9          3.0           1.4          0.2     Iris-setosa\n",
       "2             4.7          3.2           1.3          0.2     Iris-setosa\n",
       "3             4.6          3.1           1.5          0.2     Iris-setosa\n",
       "4             5.0          3.6           1.4          0.2     Iris-setosa\n",
       "..            ...          ...           ...          ...             ...\n",
       "145           6.7          3.0           5.2          2.3  Iris-virginica\n",
       "146           6.3          2.5           5.0          1.9  Iris-virginica\n",
       "147           6.5          3.0           5.2          2.0  Iris-virginica\n",
       "148           6.2          3.4           5.4          2.3  Iris-virginica\n",
       "149           5.9          3.0           5.1          1.8  Iris-virginica\n",
       "\n",
       "[150 rows x 5 columns]"
      ]
     },
     "metadata": {},
     "output_type": "display_data"
    }
   ],
   "source": [
    "df = pd.read_csv(\"/home/newmant1/luna/Kaggle/Iris/archive/Iris.csv\")\n",
    "display(df)"
   ]
  },
  {
   "cell_type": "markdown",
   "metadata": {},
   "source": [
    "Splitting data into explanatory and response variables"
   ]
  },
  {
   "cell_type": "code",
   "execution_count": 44,
   "metadata": {},
   "outputs": [],
   "source": [
    "X = df.drop('species', axis=1)\n",
    "y = df['species']"
   ]
  },
  {
   "cell_type": "markdown",
   "metadata": {},
   "source": [
    "Splittng data into training and testing sets: 80/20 split"
   ]
  },
  {
   "cell_type": "code",
   "execution_count": 45,
   "metadata": {},
   "outputs": [],
   "source": [
    "# X_train, X_test, y_train, y_test = train_test_split(X, y, test_size=0.2, random_state=42)"
   ]
  },
  {
   "cell_type": "markdown",
   "metadata": {},
   "source": [
    "Using KFold cross validation with an 80/20 split"
   ]
  },
  {
   "cell_type": "code",
   "execution_count": 46,
   "metadata": {},
   "outputs": [],
   "source": [
    "kf = KFold(n_splits=5, shuffle=True, random_state=42)\n",
    "scoring = ['accuracy', 'precision_macro', 'recall_macro', 'f1_macro']"
   ]
  },
  {
   "cell_type": "markdown",
   "metadata": {},
   "source": [
    "<br><br><br>"
   ]
  },
  {
   "cell_type": "markdown",
   "metadata": {},
   "source": [
    "## A. Random Forest\n"
   ]
  },
  {
   "cell_type": "code",
   "execution_count": 47,
   "metadata": {},
   "outputs": [],
   "source": [
    "from sklearn.ensemble import RandomForestClassifier"
   ]
  },
  {
   "cell_type": "markdown",
   "metadata": {},
   "source": [
    "Model"
   ]
  },
  {
   "cell_type": "code",
   "execution_count": 48,
   "metadata": {},
   "outputs": [],
   "source": [
    "n_trees = 100\n",
    "rf_clf = RandomForestClassifier(n_estimators=n_trees, random_state=27)"
   ]
  },
  {
   "cell_type": "markdown",
   "metadata": {},
   "source": [
    "Evaluate the model's performance using 5-fold cross validation"
   ]
  },
  {
   "cell_type": "code",
   "execution_count": 49,
   "metadata": {},
   "outputs": [
    {
     "name": "stdout",
     "output_type": "stream",
     "text": [
      "----------------------------------------------------\n",
      "Cross-validation accuracy scores: [1.         0.96666667 0.93333333 0.93333333 0.93333333]\n",
      "Mean cross-validation accuracy: 0.9533333333333335\n",
      "----------------------------------------------------\n",
      "Cross-validation precision scores: [1.         0.96969697 0.93333333 0.93888889 0.94871795]\n",
      "Mean cross-validation precision: 0.9581274281274281\n",
      "----------------------------------------------------\n",
      "Cross-validation recall scores: [1.         0.95238095 0.93333333 0.93888889 0.94444444]\n",
      "Mean cross-validation recall: 0.9538095238095238\n",
      "----------------------------------------------------\n",
      "Cross-validation F1 scores: [1.         0.95848596 0.92592593 0.93888889 0.94191919]\n",
      "Mean cross-validation F1: 0.9530439930439931\n"
     ]
    }
   ],
   "source": [
    "rf_cv_scores = cross_validate(rf_clf, X, y, cv=kf, scoring=scoring)\n",
    "\n",
    "print(\"----------------------------------------------------\")\n",
    "print(f'Cross-validation accuracy scores: {rf_cv_scores[\"test_accuracy\"]}')\n",
    "print(f'Mean cross-validation accuracy: {rf_cv_scores[\"test_accuracy\"].mean()}')\n",
    "print(\"----------------------------------------------------\")\n",
    "\n",
    "print(f'Cross-validation precision scores: {rf_cv_scores[\"test_precision_macro\"]}')\n",
    "print(f'Mean cross-validation precision: {rf_cv_scores[\"test_precision_macro\"].mean()}')\n",
    "print(\"----------------------------------------------------\")\n",
    "\n",
    "print(f'Cross-validation recall scores: {rf_cv_scores[\"test_recall_macro\"]}')\n",
    "print(f'Mean cross-validation recall: {rf_cv_scores[\"test_recall_macro\"].mean()}')\n",
    "print(\"----------------------------------------------------\")\n",
    "\n",
    "print(f'Cross-validation F1 scores: {rf_cv_scores[\"test_f1_macro\"]}')\n",
    "print(f'Mean cross-validation F1: {rf_cv_scores[\"test_f1_macro\"].mean()}')"
   ]
  },
  {
   "cell_type": "markdown",
   "metadata": {},
   "source": [
    "<br><br><br>"
   ]
  },
  {
   "cell_type": "markdown",
   "metadata": {},
   "source": [
    "## B. XGBoost"
   ]
  },
  {
   "cell_type": "code",
   "execution_count": 50,
   "metadata": {},
   "outputs": [],
   "source": [
    "from xgboost import XGBClassifier\n",
    "from sklearn.preprocessing import LabelEncoder"
   ]
  },
  {
   "cell_type": "markdown",
   "metadata": {},
   "source": [
    "xgboost model requires output to be in integer format"
   ]
  },
  {
   "cell_type": "code",
   "execution_count": 51,
   "metadata": {},
   "outputs": [],
   "source": [
    "label_encoder = LabelEncoder()\n",
    "xgb_df = df\n",
    "xgb_df['species'] = label_encoder.fit_transform(xgb_df['species'])\n",
    "xgb_X = df.drop('species', axis=1)\n",
    "xgb_y = df['species']\n",
    "xgb_X_train, xgb_X_test, xgb_y_train, xgb_y_test = train_test_split(xgb_X, xgb_y, test_size=0.2, random_state=42)"
   ]
  },
  {
   "cell_type": "markdown",
   "metadata": {},
   "source": [
    "Model"
   ]
  },
  {
   "cell_type": "code",
   "execution_count": 52,
   "metadata": {},
   "outputs": [],
   "source": [
    "xgb_clf = XGBClassifier(eval_metric='mlogloss', random_state=27)"
   ]
  },
  {
   "cell_type": "markdown",
   "metadata": {},
   "source": [
    "Evaluate the model's performance using 5-fold cross validation"
   ]
  },
  {
   "cell_type": "code",
   "execution_count": 53,
   "metadata": {},
   "outputs": [
    {
     "name": "stdout",
     "output_type": "stream",
     "text": [
      "----------------------------------------------------\n",
      "Cross-validation accuracy scores: [1.         0.96666667 0.93333333 0.9        0.93333333]\n",
      "Mean cross-validation accuracy: 0.9466666666666667\n",
      "----------------------------------------------------\n",
      "Cross-validation precision scores: [1.         0.96969697 0.93333333 0.89814815 0.94871795]\n",
      "Mean cross-validation precision: 0.9499792799792799\n",
      "----------------------------------------------------\n",
      "Cross-validation recall scores: [1.         0.95238095 0.93333333 0.90555556 0.94444444]\n",
      "Mean cross-validation recall: 0.9471428571428572\n",
      "----------------------------------------------------\n",
      "Cross-validation F1 scores: [1.         0.95848596 0.92592593 0.8999828  0.94191919]\n",
      "Mean cross-validation F1: 0.9452627752937351\n"
     ]
    }
   ],
   "source": [
    "xgb_cv_scores = cross_validate(xgb_clf, xgb_X, xgb_y, cv=kf, scoring=scoring)\n",
    "\n",
    "\n",
    "print(\"----------------------------------------------------\")\n",
    "print(f'Cross-validation accuracy scores: {xgb_cv_scores[\"test_accuracy\"]}')\n",
    "print(f'Mean cross-validation accuracy: {xgb_cv_scores[\"test_accuracy\"].mean()}')\n",
    "print(\"----------------------------------------------------\")\n",
    "\n",
    "print(f'Cross-validation precision scores: {xgb_cv_scores[\"test_precision_macro\"]}')\n",
    "print(f'Mean cross-validation precision: {xgb_cv_scores[\"test_precision_macro\"].mean()}')\n",
    "print(\"----------------------------------------------------\")\n",
    "\n",
    "print(f'Cross-validation recall scores: {xgb_cv_scores[\"test_recall_macro\"]}')\n",
    "print(f'Mean cross-validation recall: {xgb_cv_scores[\"test_recall_macro\"].mean()}')\n",
    "print(\"----------------------------------------------------\")\n",
    "\n",
    "print(f'Cross-validation F1 scores: {xgb_cv_scores[\"test_f1_macro\"]}')\n",
    "print(f'Mean cross-validation F1: {xgb_cv_scores[\"test_f1_macro\"].mean()}')"
   ]
  },
  {
   "cell_type": "markdown",
   "metadata": {},
   "source": [
    "<br><br><br>"
   ]
  },
  {
   "cell_type": "markdown",
   "metadata": {},
   "source": [
    "## C. Support Vector Machine "
   ]
  },
  {
   "cell_type": "code",
   "execution_count": 54,
   "metadata": {},
   "outputs": [],
   "source": [
    "from sklearn.svm import SVC"
   ]
  },
  {
   "cell_type": "markdown",
   "metadata": {},
   "source": [
    "Model"
   ]
  },
  {
   "cell_type": "code",
   "execution_count": 55,
   "metadata": {},
   "outputs": [],
   "source": [
    "svm_clf = SVC(kernel='linear', random_state=27)"
   ]
  },
  {
   "cell_type": "markdown",
   "metadata": {},
   "source": [
    "Evaluate the model's performance using 5-fold cross validation"
   ]
  },
  {
   "cell_type": "code",
   "execution_count": 56,
   "metadata": {},
   "outputs": [
    {
     "name": "stdout",
     "output_type": "stream",
     "text": [
      "----------------------------------------------------\n",
      "Cross-validation accuracy scores: [1.         1.         0.96666667 0.93333333 0.96666667]\n",
      "Mean cross-validation accuracy: 0.9733333333333334\n",
      "----------------------------------------------------\n",
      "Cross-validation precision scores: [1.         1.         0.96296296 0.95238095 0.97222222]\n",
      "Mean cross-validation precision: 0.9775132275132276\n",
      "----------------------------------------------------\n",
      "Cross-validation recall scores: [1.         1.         0.96666667 0.93333333 0.97222222]\n",
      "Mean cross-validation recall: 0.9744444444444443\n",
      "----------------------------------------------------\n",
      "Cross-validation F1 scores: [1.         1.         0.9628483  0.93732194 0.97101449]\n",
      "Mean cross-validation F1: 0.9742369454578366\n"
     ]
    }
   ],
   "source": [
    "svm_cv_scores = cross_validate(svm_clf, X, y, cv=kf, scoring=scoring)\n",
    "\n",
    "\n",
    "print(\"----------------------------------------------------\")\n",
    "print(f'Cross-validation accuracy scores: {svm_cv_scores[\"test_accuracy\"]}')\n",
    "print(f'Mean cross-validation accuracy: {svm_cv_scores[\"test_accuracy\"].mean()}')\n",
    "print(\"----------------------------------------------------\")\n",
    "\n",
    "print(f'Cross-validation precision scores: {svm_cv_scores[\"test_precision_macro\"]}')\n",
    "print(f'Mean cross-validation precision: {svm_cv_scores[\"test_precision_macro\"].mean()}')\n",
    "print(\"----------------------------------------------------\")\n",
    "\n",
    "print(f'Cross-validation recall scores: {svm_cv_scores[\"test_recall_macro\"]}')\n",
    "print(f'Mean cross-validation recall: {svm_cv_scores[\"test_recall_macro\"].mean()}')\n",
    "print(\"----------------------------------------------------\")\n",
    "\n",
    "print(f'Cross-validation F1 scores: {svm_cv_scores[\"test_f1_macro\"]}')\n",
    "print(f'Mean cross-validation F1: {svm_cv_scores[\"test_f1_macro\"].mean()}')"
   ]
  },
  {
   "cell_type": "markdown",
   "metadata": {},
   "source": [
    "<br><br><br>"
   ]
  },
  {
   "cell_type": "markdown",
   "metadata": {},
   "source": [
    "## D. K-Nearest Neighbors"
   ]
  },
  {
   "cell_type": "code",
   "execution_count": 57,
   "metadata": {},
   "outputs": [],
   "source": [
    "from sklearn.neighbors import KNeighborsClassifier"
   ]
  },
  {
   "cell_type": "markdown",
   "metadata": {},
   "source": [
    "Model"
   ]
  },
  {
   "cell_type": "code",
   "execution_count": 58,
   "metadata": {},
   "outputs": [],
   "source": [
    "knn_clf = KNeighborsClassifier(n_neighbors=5)"
   ]
  },
  {
   "cell_type": "markdown",
   "metadata": {},
   "source": [
    "Evaluate the model's performance using 5-fold cross validation"
   ]
  },
  {
   "cell_type": "code",
   "execution_count": 59,
   "metadata": {},
   "outputs": [
    {
     "name": "stdout",
     "output_type": "stream",
     "text": [
      "----------------------------------------------------\n",
      "Cross-validation accuracy scores: [1.         1.         0.96666667 0.93333333 0.96666667]\n",
      "Mean cross-validation accuracy: 0.9733333333333334\n",
      "----------------------------------------------------\n",
      "Cross-validation precision scores: [1.         1.         0.96296296 0.95238095 0.97222222]\n",
      "Mean cross-validation precision: 0.9775132275132276\n",
      "----------------------------------------------------\n",
      "Cross-validation recall scores: [1.         1.         0.96666667 0.93333333 0.97222222]\n",
      "Mean cross-validation recall: 0.9744444444444443\n",
      "----------------------------------------------------\n",
      "Cross-validation F1 scores: [1.         1.         0.9628483  0.93732194 0.97101449]\n",
      "Mean cross-validation F1: 0.9742369454578366\n"
     ]
    }
   ],
   "source": [
    "knn_cv_scores = cross_validate(knn_clf, X, y, cv=kf, scoring=scoring)\n",
    "\n",
    "\n",
    "print(\"----------------------------------------------------\")\n",
    "print(f'Cross-validation accuracy scores: {svm_cv_scores[\"test_accuracy\"]}')\n",
    "print(f'Mean cross-validation accuracy: {svm_cv_scores[\"test_accuracy\"].mean()}')\n",
    "print(\"----------------------------------------------------\")\n",
    "\n",
    "print(f'Cross-validation precision scores: {svm_cv_scores[\"test_precision_macro\"]}')\n",
    "print(f'Mean cross-validation precision: {svm_cv_scores[\"test_precision_macro\"].mean()}')\n",
    "print(\"----------------------------------------------------\")\n",
    "\n",
    "print(f'Cross-validation recall scores: {svm_cv_scores[\"test_recall_macro\"]}')\n",
    "print(f'Mean cross-validation recall: {svm_cv_scores[\"test_recall_macro\"].mean()}')\n",
    "print(\"----------------------------------------------------\")\n",
    "\n",
    "print(f'Cross-validation F1 scores: {svm_cv_scores[\"test_f1_macro\"]}')\n",
    "print(f'Mean cross-validation F1: {svm_cv_scores[\"test_f1_macro\"].mean()}')"
   ]
  },
  {
   "cell_type": "markdown",
   "metadata": {},
   "source": [
    "<br><br><br>"
   ]
  },
  {
   "cell_type": "markdown",
   "metadata": {},
   "source": [
    "## Comparing Results"
   ]
  },
  {
   "cell_type": "code",
   "execution_count": 85,
   "metadata": {},
   "outputs": [],
   "source": [
    "import matplotlib.cm as cm\n",
    "import matplotlib.patches as mpatches\n",
    "from matplotlib.lines import Line2D\n",
    "plt.style.use('dark_background')"
   ]
  },
  {
   "cell_type": "code",
   "execution_count": 75,
   "metadata": {},
   "outputs": [],
   "source": [
    "classifier_colors = cm.rainbow(np.linspace(0, 1, 4))"
   ]
  },
  {
   "cell_type": "code",
   "execution_count": 97,
   "metadata": {},
   "outputs": [
    {
     "data": {
      "image/png": "[encoded data removed]",
      "text/plain": [
       "<Figure size 1500x1500 with 4 Axes>"
      ]
     },
     "metadata": {},
     "output_type": "display_data"
    }
   ],
   "source": [
    "plt.figure(figsize=(15, 15))\n",
    "\n",
    "\n",
    "\n",
    "plt.subplot(2, 2, 1)\n",
    "plt.title(\"Accuracy\")\n",
    "for i in range(len(rf_cv_scores[\"test_accuracy\"])):\n",
    "    plt.scatter(['Random Forest', 'XGBoost', 'SVM', 'KNN'], [rf_cv_scores[\"test_accuracy\"][i], xgb_cv_scores[\"test_accuracy\"][i], svm_cv_scores[\"test_accuracy\"][i], knn_cv_scores[\"test_accuracy\"][i]],\n",
    "                color=classifier_colors, s=50, marker='*', alpha=0.4)\n",
    "plt.scatter(['Random Forest', 'XGBoost', 'SVM', 'KNN'], [rf_cv_scores[\"test_accuracy\"].mean(), xgb_cv_scores[\"test_accuracy\"].mean(), svm_cv_scores[\"test_accuracy\"].mean(), knn_cv_scores[\"test_accuracy\"].mean()],\n",
    "            color=classifier_colors, s=100, marker='x')\n",
    "handles = [\n",
    "    Line2D([0], [0], color=classifier_colors[0], marker='*', linestyle='', markersize=10, label='Random Forest'),\n",
    "    Line2D([0], [0], color=classifier_colors[1], marker='*', linestyle='', markersize=10, label='XGBoost'),\n",
    "    Line2D([0], [0], color=classifier_colors[2], marker='*', linestyle='', markersize=10, label='SVM'),\n",
    "    Line2D([0], [0], color=classifier_colors[3], marker='*', linestyle='', markersize=10, label='KNN'),\n",
    "    Line2D([0], [0], color='white', marker='x', linestyle='', markersize=10, label='Mean Score')\n",
    "]\n",
    "\n",
    "# Create the legend\n",
    "plt.legend(handles=handles, loc='lower center', bbox_to_anchor=(1.1, 1.1), ncol=5)\n",
    "\n",
    "plt.subplot(2, 2, 2)\n",
    "plt.title(\"Precision\")\n",
    "for i in range(len(rf_cv_scores[\"test_precision_macro\"])):\n",
    "    plt.scatter(['Random Forest', 'XGBoost', 'SVM', 'KNN'], [rf_cv_scores[\"test_precision_macro\"][i], xgb_cv_scores[\"test_precision_macro\"][i], svm_cv_scores[\"test_precision_macro\"][i], knn_cv_scores[\"test_precision_macro\"][i]],\n",
    "                color=classifier_colors, s=50, marker='*', alpha=0.4)\n",
    "plt.scatter(['Random Forest', 'XGBoost', 'SVM', 'KNN'], [rf_cv_scores[\"test_precision_macro\"].mean(), xgb_cv_scores[\"test_precision_macro\"].mean(), svm_cv_scores[\"test_precision_macro\"].mean(), knn_cv_scores[\"test_precision_macro\"].mean()],\n",
    "            color=classifier_colors, s=100, marker='x')\n",
    "\n",
    "plt.subplot(2, 2, 3)\n",
    "plt.title(\"Recall\")\n",
    "for i in range(len(rf_cv_scores[\"test_recall_macro\"])):\n",
    "    plt.scatter(['Random Forest', 'XGBoost', 'SVM', 'KNN'], [rf_cv_scores[\"test_recall_macro\"][i], xgb_cv_scores[\"test_recall_macro\"][i], svm_cv_scores[\"test_recall_macro\"][i], knn_cv_scores[\"test_recall_macro\"][i]],\n",
    "                color=classifier_colors, s=50, marker='*', alpha=0.4)\n",
    "plt.scatter(['Random Forest', 'XGBoost', 'SVM', 'KNN'], [rf_cv_scores[\"test_recall_macro\"].mean(), xgb_cv_scores[\"test_recall_macro\"].mean(), svm_cv_scores[\"test_recall_macro\"].mean(), knn_cv_scores[\"test_recall_macro\"].mean()],\n",
    "            color=classifier_colors, s=100, marker='x')\n",
    "\n",
    "plt.subplot(2, 2, 4)\n",
    "plt.title(\"F1\")\n",
    "for i in range(len(rf_cv_scores[\"test_f1_macro\"])):\n",
    "    plt.scatter(['Random Forest', 'XGBoost', 'SVM', 'KNN'], [rf_cv_scores[\"test_f1_macro\"][i], xgb_cv_scores[\"test_f1_macro\"][i], svm_cv_scores[\"test_f1_macro\"][i], knn_cv_scores[\"test_f1_macro\"][i]],\n",
    "                color=classifier_colors, s=50, marker='*', alpha=0.4)\n",
    "plt.scatter(['Random Forest', 'XGBoost', 'SVM', 'KNN'], [rf_cv_scores[\"test_f1_macro\"].mean(), xgb_cv_scores[\"test_f1_macro\"].mean(), svm_cv_scores[\"test_f1_macro\"].mean(), knn_cv_scores[\"test_f1_macro\"].mean()],\n",
    "            color=classifier_colors, s=100, marker='x')\n",
    "\n",
    "\n",
    "# Custom legend handles\n",
    "\n",
    "# Show the plot\n",
    "plt.show()"
   ]
  }
 ],
 "metadata": {
  "kernelspec": {
   "display_name": "Python 3",
   "language": "python",
   "name": "python3"
  },
  "language_info": {
   "codemirror_mode": {
    "name": "ipython",
    "version": 3
   },
   "file_extension": ".py",
   "mimetype": "text/x-python",
   "name": "python",
   "nbconvert_exporter": "python",
   "pygments_lexer": "ipython3",
   "version": "3.10.12"
  }
 },
 "nbformat": 4,
 "nbformat_minor": 2
}
